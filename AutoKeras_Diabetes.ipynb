{
  "metadata": {
    "kernelspec": {
      "language": "python",
      "display_name": "Python 3",
      "name": "python3"
    },
    "language_info": {
      "name": "python",
      "version": "3.7.12",
      "mimetype": "text/x-python",
      "codemirror_mode": {
        "name": "ipython",
        "version": 3
      },
      "pygments_lexer": "ipython3",
      "nbconvert_exporter": "python",
      "file_extension": ".py"
    },
    "kaggle": {
      "accelerator": "gpu",
      "dataSources": [
        {
          "sourceId": 7956169,
          "sourceType": "datasetVersion",
          "datasetId": 4679635
        }
      ],
      "dockerImageVersionId": 30163,
      "isInternetEnabled": true,
      "language": "python",
      "sourceType": "notebook",
      "isGpuEnabled": true
    },
    "colab": {
      "name": "AutoKeras-Diabetes  ",
      "provenance": [],
      "include_colab_link": true
    }
  },
  "nbformat_minor": 0,
  "nbformat": 4,
  "cells": [
    {
      "cell_type": "markdown",
      "metadata": {
        "id": "view-in-github",
        "colab_type": "text"
      },
      "source": [
        "<a href=\"https://colab.research.google.com/github/Mohana-AI/Deep-Learning/blob/main/AutoKeras_Diabetes.ipynb\" target=\"_parent\"><img src=\"https://colab.research.google.com/assets/colab-badge.svg\" alt=\"Open In Colab\"/></a>"
      ]
    },
    {
      "cell_type": "markdown",
      "source": [
        "**AutoKeras**\n",
        "\n",
        "* AutoKeras is an open-source AutoML (Automated Machine Learning) library built on top of TensorFlow and developed by the Data Analytics and Decision Support Lab (DADS) at Texas A&M University.\n",
        "*   It aims to simplify the process of building and training machine learning models by automating several key steps such as architecture search, hyperparameter tuning, and model selection."
      ],
      "metadata": {
        "id": "j81EwKnmskuc"
      }
    },
    {
      "cell_type": "markdown",
      "source": [
        "**Some key features of AutoKeras include:**\n",
        "\n",
        "\n",
        "* AutoKeras uses **neural architecture search (NAS)** techniques to automatically search for the best neural network architecture for a given dataset and task.\n",
        "* It **automates the process of hyperparameter tuning**, such as learning rates, batch sizes, and activation functions, to improve model performance.\n",
        "* AutoKeras provides a user-friendly API that allows developers and data scientists to quickly build and train machine learning models without extensive manual configuration.\n",
        "* It supports a wide range of machine learning tasks, including **classification, regression, image classification, text classification, and structured data prediction**.\n",
        "* Since AutoKeras is built on top of TensorFlow, it seamlessly integrates with other TensorFlow tools and libraries, making it easy to incorporate into existing TensorFlow workflows."
      ],
      "metadata": {
        "id": "MsXC3yYRt4Yq"
      }
    },
    {
      "cell_type": "markdown",
      "source": [
        "**Install autokeras**"
      ],
      "metadata": {
        "id": "fZa4KL_lskuc"
      }
    },
    {
      "cell_type": "code",
      "source": [
        "!pip install autokeras"
      ],
      "metadata": {
        "id": "y-r6TVMfskud"
      },
      "execution_count": null,
      "outputs": []
    },
    {
      "cell_type": "code",
      "source": [
        "import pandas as pd\n",
        "import numpy as np\n",
        "from autokeras import StructuredDataClassifier\n",
        "from sklearn.model_selection import train_test_split"
      ],
      "metadata": {
        "execution": {
          "iopub.status.busy": "2024-03-27T11:22:57.520139Z",
          "iopub.execute_input": "2024-03-27T11:22:57.520817Z",
          "iopub.status.idle": "2024-03-27T11:22:57.525114Z",
          "shell.execute_reply.started": "2024-03-27T11:22:57.520779Z",
          "shell.execute_reply": "2024-03-27T11:22:57.524191Z"
        },
        "trusted": true,
        "id": "pTa0kSzgskud"
      },
      "execution_count": null,
      "outputs": []
    },
    {
      "cell_type": "code",
      "source": [
        "diabetes = pd.read_csv(\"diabetes.xls\")\n",
        "diabetes.head()"
      ],
      "metadata": {
        "execution": {
          "iopub.status.busy": "2024-03-27T11:27:57.441082Z",
          "iopub.execute_input": "2024-03-27T11:27:57.441384Z",
          "iopub.status.idle": "2024-03-27T11:27:57.469817Z",
          "shell.execute_reply.started": "2024-03-27T11:27:57.44135Z",
          "shell.execute_reply": "2024-03-27T11:27:57.469034Z"
        },
        "trusted": true,
        "id": "EDdXdMOVskue",
        "outputId": "9b368fda-66f6-42c1-ac69-40554911f9ca"
      },
      "execution_count": null,
      "outputs": [
        {
          "execution_count": 20,
          "output_type": "execute_result",
          "data": {
            "text/plain": "   Pregnancies  Glucose  BloodPressure  SkinThickness  Insulin   BMI  \\\n0            6      148             72             35        0  33.6   \n1            1       85             66             29        0  26.6   \n2            8      183             64              0        0  23.3   \n3            1       89             66             23       94  28.1   \n4            0      137             40             35      168  43.1   \n\n   DiabetesPedigreeFunction  Age  Outcome  \n0                     0.627   50        1  \n1                     0.351   31        0  \n2                     0.672   32        1  \n3                     0.167   21        0  \n4                     2.288   33        1  ",
            "text/html": "<div>\n<style scoped>\n    .dataframe tbody tr th:only-of-type {\n        vertical-align: middle;\n    }\n\n    .dataframe tbody tr th {\n        vertical-align: top;\n    }\n\n    .dataframe thead th {\n        text-align: right;\n    }\n</style>\n<table border=\"1\" class=\"dataframe\">\n  <thead>\n    <tr style=\"text-align: right;\">\n      <th></th>\n      <th>Pregnancies</th>\n      <th>Glucose</th>\n      <th>BloodPressure</th>\n      <th>SkinThickness</th>\n      <th>Insulin</th>\n      <th>BMI</th>\n      <th>DiabetesPedigreeFunction</th>\n      <th>Age</th>\n      <th>Outcome</th>\n    </tr>\n  </thead>\n  <tbody>\n    <tr>\n      <th>0</th>\n      <td>6</td>\n      <td>148</td>\n      <td>72</td>\n      <td>35</td>\n      <td>0</td>\n      <td>33.6</td>\n      <td>0.627</td>\n      <td>50</td>\n      <td>1</td>\n    </tr>\n    <tr>\n      <th>1</th>\n      <td>1</td>\n      <td>85</td>\n      <td>66</td>\n      <td>29</td>\n      <td>0</td>\n      <td>26.6</td>\n      <td>0.351</td>\n      <td>31</td>\n      <td>0</td>\n    </tr>\n    <tr>\n      <th>2</th>\n      <td>8</td>\n      <td>183</td>\n      <td>64</td>\n      <td>0</td>\n      <td>0</td>\n      <td>23.3</td>\n      <td>0.672</td>\n      <td>32</td>\n      <td>1</td>\n    </tr>\n    <tr>\n      <th>3</th>\n      <td>1</td>\n      <td>89</td>\n      <td>66</td>\n      <td>23</td>\n      <td>94</td>\n      <td>28.1</td>\n      <td>0.167</td>\n      <td>21</td>\n      <td>0</td>\n    </tr>\n    <tr>\n      <th>4</th>\n      <td>0</td>\n      <td>137</td>\n      <td>40</td>\n      <td>35</td>\n      <td>168</td>\n      <td>43.1</td>\n      <td>2.288</td>\n      <td>33</td>\n      <td>1</td>\n    </tr>\n  </tbody>\n</table>\n</div>"
          },
          "metadata": {}
        }
      ]
    },
    {
      "cell_type": "code",
      "source": [
        "target_col = \"Outcome\"\n",
        "X = diabetes.loc[:, diabetes.columns != target_col]\n",
        "y = diabetes.loc[:, target_col]"
      ],
      "metadata": {
        "execution": {
          "iopub.status.busy": "2024-03-27T11:29:09.12922Z",
          "iopub.execute_input": "2024-03-27T11:29:09.129532Z",
          "iopub.status.idle": "2024-03-27T11:29:09.140948Z",
          "shell.execute_reply.started": "2024-03-27T11:29:09.129495Z",
          "shell.execute_reply": "2024-03-27T11:29:09.140121Z"
        },
        "trusted": true,
        "id": "_WTXMj2Tskuf"
      },
      "execution_count": null,
      "outputs": []
    },
    {
      "cell_type": "code",
      "source": [
        "X_train, X_test, y_train, y_test = train_test_split(X, y,\n",
        "                                                    test_size=0.20,\n",
        "                                                    random_state=2021)"
      ],
      "metadata": {
        "execution": {
          "iopub.status.busy": "2024-03-27T11:29:31.129884Z",
          "iopub.execute_input": "2024-03-27T11:29:31.130622Z",
          "iopub.status.idle": "2024-03-27T11:29:31.139157Z",
          "shell.execute_reply.started": "2024-03-27T11:29:31.130582Z",
          "shell.execute_reply": "2024-03-27T11:29:31.138445Z"
        },
        "trusted": true,
        "id": "4WKyvSDkskug"
      },
      "execution_count": null,
      "outputs": []
    },
    {
      "cell_type": "code",
      "source": [
        "search = StructuredDataClassifier(max_trials = 20)"
      ],
      "metadata": {
        "execution": {
          "iopub.status.busy": "2024-03-27T11:29:42.838011Z",
          "iopub.execute_input": "2024-03-27T11:29:42.838329Z",
          "iopub.status.idle": "2024-03-27T11:29:42.868848Z",
          "shell.execute_reply.started": "2024-03-27T11:29:42.838296Z",
          "shell.execute_reply": "2024-03-27T11:29:42.86829Z"
        },
        "trusted": true,
        "id": "GRzPWih8skug"
      },
      "execution_count": null,
      "outputs": []
    },
    {
      "cell_type": "code",
      "source": [
        "search.fit(x=X_train, y=y_train)"
      ],
      "metadata": {
        "execution": {
          "iopub.status.busy": "2024-03-27T11:29:53.287417Z",
          "iopub.execute_input": "2024-03-27T11:29:53.28773Z",
          "iopub.status.idle": "2024-03-27T11:31:41.255021Z",
          "shell.execute_reply.started": "2024-03-27T11:29:53.28769Z",
          "shell.execute_reply": "2024-03-27T11:31:41.254129Z"
        },
        "trusted": true,
        "id": "CMsHzbILskug",
        "outputId": "6afba62a-a3ca-4c35-9fac-95238a2b2e7c"
      },
      "execution_count": null,
      "outputs": [
        {
          "name": "stdout",
          "text": "Trial 20 Complete [00h 00m 04s]\nval_accuracy: 0.7058823704719543\n\nBest val_accuracy So Far: 0.7647058963775635\nTotal elapsed time: 00h 01m 43s\n20/20 [==============================] - 1s 2ms/step - loss: 0.7140 - accuracy: 0.5065\n",
          "output_type": "stream"
        },
        {
          "execution_count": 25,
          "output_type": "execute_result",
          "data": {
            "text/plain": "<keras.callbacks.History at 0x7831a6958e90>"
          },
          "metadata": {}
        }
      ]
    },
    {
      "cell_type": "code",
      "source": [
        "loss, acc = search.evaluate(X_train, y_train, verbose=0)\n",
        "print('Accuracy is {}'.format(acc))"
      ],
      "metadata": {
        "execution": {
          "iopub.status.busy": "2024-03-27T11:31:50.558436Z",
          "iopub.execute_input": "2024-03-27T11:31:50.558715Z",
          "iopub.status.idle": "2024-03-27T11:31:51.356336Z",
          "shell.execute_reply.started": "2024-03-27T11:31:50.558686Z",
          "shell.execute_reply": "2024-03-27T11:31:51.355356Z"
        },
        "trusted": true,
        "id": "X6NfZWOqskuh",
        "outputId": "b7aa8660-6e8f-4f0a-b389-3b9f84dc3da5"
      },
      "execution_count": null,
      "outputs": [
        {
          "name": "stdout",
          "text": "Accuracy is 0.6856677532196045\n",
          "output_type": "stream"
        }
      ]
    }
  ]
}